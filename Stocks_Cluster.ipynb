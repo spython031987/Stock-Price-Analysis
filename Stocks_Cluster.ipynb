{
 "cells": [
  {
   "cell_type": "markdown",
   "id": "78ec0c3a-1c70-42f9-aaba-42cd35bd6823",
   "metadata": {},
   "source": [
    "DO NOT RUN AS IT TAKES VERY LONG"
   ]
  },
  {
   "cell_type": "code",
   "execution_count": 1,
   "id": "1cf9c9fb-99ea-4213-9a20-58630dc3a58c",
   "metadata": {},
   "outputs": [
    {
     "name": "stderr",
     "output_type": "stream",
     "text": [
      "[*********************100%%**********************]  36 of 36 completed\n"
     ]
    }
   ],
   "source": [
    "import pandas as pd\n",
    "import numpy as np\n",
    "import yfinance as yf\n",
    "import datetime\n",
    "\n",
    "start = '2012-01-01'\n",
    "end = '2019-12-31'\n",
    "symbols = ['AAPL',\n",
    "          'ABBV',\n",
    "          'ADBE',\n",
    "          'AMD',\n",
    "          'AMZN',\n",
    "          'AVGO',\n",
    "          'BAC',\n",
    "          'COST',\n",
    "          'CRM',\n",
    "          'CVX',\n",
    "          'DIS',\n",
    "          'GE',\n",
    "          'GOOG',\n",
    "          'GOOGL',\n",
    "          'HD',\n",
    "          'JNJ',\n",
    "          'JPM',\n",
    "          'KO',\n",
    "          'LIN',\n",
    "          'LLY',\n",
    "          'MA',\n",
    "          'META',\n",
    "          'MRK',\n",
    "          'MSFT',\n",
    "          'NFLX',\n",
    "          'NVDA',\n",
    "          'ORCL',\n",
    "          'PEP',\n",
    "          'PG',\n",
    "          'TMO',\n",
    "          'TSLA',\n",
    "          'UNH',\n",
    "          'V',\n",
    "          'WFC',\n",
    "          'WMT',\n",
    "          'XOM']\n",
    "\n",
    "stock_prices = yf.download(symbols, start=start, end=end)\n",
    "#stock_prices.to_csv(\"sp500_stock_prices.csv\", index =None)"
   ]
  },
  {
   "cell_type": "code",
   "execution_count": 2,
   "id": "d1cb8d0c-cce8-46d7-b8c7-0501004c80e2",
   "metadata": {},
   "outputs": [],
   "source": [
    "stock_prices=stock_prices['Adj Close']"
   ]
  },
  {
   "cell_type": "code",
   "execution_count": 3,
   "id": "aa4ed79c-11cc-4e8e-b50b-59ed9838654c",
   "metadata": {},
   "outputs": [
    {
     "name": "stdout",
     "output_type": "stream",
     "text": [
      "<class 'pandas.core.frame.DataFrame'>\n",
      "DatetimeIndex: 2011 entries, 2012-01-03 to 2019-12-30\n",
      "Data columns (total 36 columns):\n",
      " #   Column  Non-Null Count  Dtype  \n",
      "---  ------  --------------  -----  \n",
      " 0   AAPL    2011 non-null   float64\n",
      " 1   ABBV    1761 non-null   float64\n",
      " 2   ADBE    2011 non-null   float64\n",
      " 3   AMD     2011 non-null   float64\n",
      " 4   AMZN    2011 non-null   float64\n",
      " 5   AVGO    2011 non-null   float64\n",
      " 6   BAC     2011 non-null   float64\n",
      " 7   COST    2011 non-null   float64\n",
      " 8   CRM     2011 non-null   float64\n",
      " 9   CVX     2011 non-null   float64\n",
      " 10  DIS     2011 non-null   float64\n",
      " 11  GE      2011 non-null   float64\n",
      " 12  GOOG    2011 non-null   float64\n",
      " 13  GOOGL   2011 non-null   float64\n",
      " 14  HD      2011 non-null   float64\n",
      " 15  JNJ     2011 non-null   float64\n",
      " 16  JPM     2011 non-null   float64\n",
      " 17  KO      2011 non-null   float64\n",
      " 18  LIN     2011 non-null   float64\n",
      " 19  LLY     2011 non-null   float64\n",
      " 20  MA      2011 non-null   float64\n",
      " 21  META    1916 non-null   float64\n",
      " 22  MRK     2011 non-null   float64\n",
      " 23  MSFT    2011 non-null   float64\n",
      " 24  NFLX    2011 non-null   float64\n",
      " 25  NVDA    2011 non-null   float64\n",
      " 26  ORCL    2011 non-null   float64\n",
      " 27  PEP     2011 non-null   float64\n",
      " 28  PG      2011 non-null   float64\n",
      " 29  TMO     2011 non-null   float64\n",
      " 30  TSLA    2011 non-null   float64\n",
      " 31  UNH     2011 non-null   float64\n",
      " 32  V       2011 non-null   float64\n",
      " 33  WFC     2011 non-null   float64\n",
      " 34  WMT     2011 non-null   float64\n",
      " 35  XOM     2011 non-null   float64\n",
      "dtypes: float64(36)\n",
      "memory usage: 581.3 KB\n"
     ]
    }
   ],
   "source": [
    "stock_prices.info()"
   ]
  },
  {
   "cell_type": "code",
   "execution_count": 4,
   "id": "e2d89897-41b9-46bd-9129-86456d37d65a",
   "metadata": {},
   "outputs": [],
   "source": [
    "stock_prices.dropna(axis=0,inplace=True)"
   ]
  },
  {
   "cell_type": "code",
   "execution_count": 5,
   "id": "794604c7-98cf-4f75-a561-126503a08302",
   "metadata": {},
   "outputs": [
    {
     "name": "stdout",
     "output_type": "stream",
     "text": [
      "<class 'pandas.core.indexes.base.Index'>\n",
      "Index(['AAPL', 'ABBV', 'ADBE', 'AMD', 'AMZN', 'AVGO', 'BAC', 'COST', 'CRM',\n",
      "       'CVX', 'DIS', 'GE', 'GOOG', 'GOOGL', 'HD', 'JNJ', 'JPM', 'KO', 'LIN',\n",
      "       'LLY', 'MA', 'META', 'MRK', 'MSFT', 'NFLX', 'NVDA', 'ORCL', 'PEP', 'PG',\n",
      "       'TMO', 'TSLA', 'UNH', 'V', 'WFC', 'WMT', 'XOM'],\n",
      "      dtype='object', name='Ticker')\n"
     ]
    }
   ],
   "source": [
    "print(type(stock_prices.columns))\n",
    "print(stock_prices.columns)"
   ]
  },
  {
   "cell_type": "code",
   "execution_count": 6,
   "id": "d66dd2bc-24f5-49b9-ac45-45d5d970c388",
   "metadata": {},
   "outputs": [
    {
     "name": "stdout",
     "output_type": "stream",
     "text": [
      "(36, 1761, 1)\n",
      "[[[-1.10512152]\n",
      "  [-1.12157425]\n",
      "  [-1.15742408]\n",
      "  ...\n",
      "  [ 3.08003956]\n",
      "  [ 3.07795649]\n",
      "  [ 3.1105202 ]]\n",
      "\n",
      " [[-1.70664958]\n",
      "  [-1.71813758]\n",
      "  [-1.73556894]\n",
      "  ...\n",
      "  [ 1.56505829]\n",
      "  [ 1.53235475]\n",
      "  [ 1.49705662]]\n",
      "\n",
      " [[-1.1622357 ]\n",
      "  [-1.16928082]\n",
      "  [-1.16474327]\n",
      "  ...\n",
      "  [ 2.33476796]\n",
      "  [ 2.32987216]\n",
      "  [ 2.30061688]]\n",
      "\n",
      " [[-0.80615202]\n",
      "  [-0.81016052]\n",
      "  [-0.80013926]\n",
      "  ...\n",
      "  [ 3.61322675]\n",
      "  [ 3.56813098]\n",
      "  [ 3.50199063]]\n",
      "\n",
      " [[-1.08969788]\n",
      "  [-1.08766912]\n",
      "  [-1.08650732]\n",
      "  ...\n",
      "  [ 1.70457345]\n",
      "  [ 1.70635941]\n",
      "  [ 1.66663347]]]\n"
     ]
    }
   ],
   "source": [
    "from tslearn.preprocessing import TimeSeriesScalerMeanVariance\n",
    "\n",
    "# Normalize the time series data\n",
    "scaler = TimeSeriesScalerMeanVariance(mu=0., std=1.)\n",
    "data_scaled = scaler.fit_transform(stock_prices.T.values[..., np.newaxis])\n",
    "\n",
    "# Check the shape and data\n",
    "print(data_scaled.shape)\n",
    "print(data_scaled[:5])\n"
   ]
  },
  {
   "cell_type": "code",
   "execution_count": 62,
   "id": "aa771be1-bd33-456a-87e7-2982355f9296",
   "metadata": {},
   "outputs": [
    {
     "name": "stdout",
     "output_type": "stream",
     "text": [
      "294.417 --> 51.052 --> 50.984 --> 50.984 --> 50.984 --> \n"
     ]
    },
    {
     "name": "stderr",
     "output_type": "stream",
     "text": [
      "[Parallel(n_jobs=1)]: Done  49 tasks      | elapsed:    2.9s\n",
      "[Parallel(n_jobs=1)]: Done  49 tasks      | elapsed:    3.0s\n"
     ]
    },
    {
     "name": "stdout",
     "output_type": "stream",
     "text": [
      "147.390 --> "
     ]
    },
    {
     "name": "stderr",
     "output_type": "stream",
     "text": [
      "[Parallel(n_jobs=1)]: Done  49 tasks      | elapsed:    2.9s\n"
     ]
    },
    {
     "name": "stdout",
     "output_type": "stream",
     "text": [
      "30.749 --> "
     ]
    },
    {
     "name": "stderr",
     "output_type": "stream",
     "text": [
      "[Parallel(n_jobs=1)]: Done  49 tasks      | elapsed:    2.9s\n"
     ]
    },
    {
     "name": "stdout",
     "output_type": "stream",
     "text": [
      "30.748 --> "
     ]
    },
    {
     "name": "stderr",
     "output_type": "stream",
     "text": [
      "[Parallel(n_jobs=1)]: Done  49 tasks      | elapsed:    2.9s\n"
     ]
    },
    {
     "name": "stdout",
     "output_type": "stream",
     "text": [
      "30.748 --> \n"
     ]
    },
    {
     "name": "stderr",
     "output_type": "stream",
     "text": [
      "[Parallel(n_jobs=1)]: Done  49 tasks      | elapsed:    3.0s\n",
      "[Parallel(n_jobs=1)]: Done  49 tasks      | elapsed:    2.9s\n",
      "[Parallel(n_jobs=1)]: Done  49 tasks      | elapsed:    2.9s\n",
      "[Parallel(n_jobs=1)]: Done  49 tasks      | elapsed:    2.9s\n"
     ]
    },
    {
     "name": "stdout",
     "output_type": "stream",
     "text": [
      "81.976 --> "
     ]
    },
    {
     "name": "stderr",
     "output_type": "stream",
     "text": [
      "[Parallel(n_jobs=1)]: Done  49 tasks      | elapsed:    2.9s\n"
     ]
    },
    {
     "name": "stdout",
     "output_type": "stream",
     "text": [
      "26.684 --> "
     ]
    },
    {
     "name": "stderr",
     "output_type": "stream",
     "text": [
      "[Parallel(n_jobs=1)]: Done  49 tasks      | elapsed:    3.2s\n"
     ]
    },
    {
     "name": "stdout",
     "output_type": "stream",
     "text": [
      "26.223 --> "
     ]
    },
    {
     "name": "stderr",
     "output_type": "stream",
     "text": [
      "[Parallel(n_jobs=1)]: Done  49 tasks      | elapsed:    3.2s\n"
     ]
    },
    {
     "name": "stdout",
     "output_type": "stream",
     "text": [
      "26.091 --> "
     ]
    },
    {
     "name": "stderr",
     "output_type": "stream",
     "text": [
      "[Parallel(n_jobs=1)]: Done  49 tasks      | elapsed:    3.1s\n"
     ]
    },
    {
     "name": "stdout",
     "output_type": "stream",
     "text": [
      "26.091 --> \n"
     ]
    },
    {
     "name": "stderr",
     "output_type": "stream",
     "text": [
      "[Parallel(n_jobs=1)]: Done  49 tasks      | elapsed:    3.0s\n",
      "[Parallel(n_jobs=1)]: Done  49 tasks      | elapsed:    3.0s\n",
      "[Parallel(n_jobs=1)]: Done  49 tasks      | elapsed:    3.1s\n",
      "[Parallel(n_jobs=1)]: Done  49 tasks      | elapsed:    3.1s\n",
      "[Parallel(n_jobs=1)]: Done  49 tasks      | elapsed:    3.6s\n"
     ]
    },
    {
     "name": "stdout",
     "output_type": "stream",
     "text": [
      "69.545 --> "
     ]
    },
    {
     "name": "stderr",
     "output_type": "stream",
     "text": [
      "[Parallel(n_jobs=1)]: Done  49 tasks      | elapsed:    3.4s\n"
     ]
    },
    {
     "name": "stdout",
     "output_type": "stream",
     "text": [
      "23.836 --> "
     ]
    },
    {
     "name": "stderr",
     "output_type": "stream",
     "text": [
      "[Parallel(n_jobs=1)]: Done  49 tasks      | elapsed:    4.1s\n"
     ]
    },
    {
     "name": "stdout",
     "output_type": "stream",
     "text": [
      "23.742 --> "
     ]
    },
    {
     "name": "stderr",
     "output_type": "stream",
     "text": [
      "[Parallel(n_jobs=1)]: Done  49 tasks      | elapsed:    3.7s\n"
     ]
    },
    {
     "name": "stdout",
     "output_type": "stream",
     "text": [
      "23.742 --> \n"
     ]
    },
    {
     "name": "stderr",
     "output_type": "stream",
     "text": [
      "[Parallel(n_jobs=1)]: Done  49 tasks      | elapsed:    3.2s\n",
      "[Parallel(n_jobs=1)]: Done  49 tasks      | elapsed:    4.0s\n",
      "[Parallel(n_jobs=1)]: Done  49 tasks      | elapsed:    3.1s\n",
      "[Parallel(n_jobs=1)]: Done  49 tasks      | elapsed:    3.1s\n",
      "[Parallel(n_jobs=1)]: Done  49 tasks      | elapsed:    3.7s\n",
      "[Parallel(n_jobs=1)]: Done  49 tasks      | elapsed:    3.1s\n"
     ]
    },
    {
     "name": "stdout",
     "output_type": "stream",
     "text": [
      "41.881 --> "
     ]
    },
    {
     "name": "stderr",
     "output_type": "stream",
     "text": [
      "[Parallel(n_jobs=1)]: Done  49 tasks      | elapsed:    2.9s\n"
     ]
    },
    {
     "name": "stdout",
     "output_type": "stream",
     "text": [
      "11.535 --> "
     ]
    },
    {
     "name": "stderr",
     "output_type": "stream",
     "text": [
      "[Parallel(n_jobs=1)]: Done  49 tasks      | elapsed:    3.9s\n"
     ]
    },
    {
     "name": "stdout",
     "output_type": "stream",
     "text": [
      "11.442 --> "
     ]
    },
    {
     "name": "stderr",
     "output_type": "stream",
     "text": [
      "[Parallel(n_jobs=1)]: Done  49 tasks      | elapsed:    3.3s\n"
     ]
    },
    {
     "name": "stdout",
     "output_type": "stream",
     "text": [
      "11.442 --> \n"
     ]
    },
    {
     "name": "stderr",
     "output_type": "stream",
     "text": [
      "[Parallel(n_jobs=1)]: Done  49 tasks      | elapsed:    3.6s\n",
      "[Parallel(n_jobs=1)]: Done  49 tasks      | elapsed:    2.9s\n",
      "[Parallel(n_jobs=1)]: Done  49 tasks      | elapsed:    3.0s\n",
      "[Parallel(n_jobs=1)]: Done  49 tasks      | elapsed:    2.8s\n",
      "[Parallel(n_jobs=1)]: Done  49 tasks      | elapsed:    2.9s\n",
      "[Parallel(n_jobs=1)]: Done  49 tasks      | elapsed:    3.0s\n",
      "[Parallel(n_jobs=1)]: Done  49 tasks      | elapsed:    2.9s\n",
      "[Parallel(n_jobs=1)]: Done 199 tasks      | elapsed:   12.3s\n"
     ]
    },
    {
     "name": "stdout",
     "output_type": "stream",
     "text": [
      "35.540 --> "
     ]
    },
    {
     "name": "stderr",
     "output_type": "stream",
     "text": [
      "[Parallel(n_jobs=1)]: Done  49 tasks      | elapsed:    3.4s\n",
      "[Parallel(n_jobs=1)]: Done 199 tasks      | elapsed:   12.8s\n"
     ]
    },
    {
     "name": "stdout",
     "output_type": "stream",
     "text": [
      "10.379 --> "
     ]
    },
    {
     "name": "stderr",
     "output_type": "stream",
     "text": [
      "[Parallel(n_jobs=1)]: Done  49 tasks      | elapsed:    2.9s\n",
      "[Parallel(n_jobs=1)]: Done 199 tasks      | elapsed:   12.6s\n"
     ]
    },
    {
     "name": "stdout",
     "output_type": "stream",
     "text": [
      "10.277 --> "
     ]
    },
    {
     "name": "stderr",
     "output_type": "stream",
     "text": [
      "[Parallel(n_jobs=1)]: Done  49 tasks      | elapsed:    3.2s\n",
      "[Parallel(n_jobs=1)]: Done 199 tasks      | elapsed:   12.8s\n"
     ]
    },
    {
     "name": "stdout",
     "output_type": "stream",
     "text": [
      "10.277 --> \n"
     ]
    },
    {
     "name": "stderr",
     "output_type": "stream",
     "text": [
      "[Parallel(n_jobs=1)]: Done  49 tasks      | elapsed:    2.8s\n",
      "[Parallel(n_jobs=1)]: Done 199 tasks      | elapsed:   12.1s\n",
      "[Parallel(n_jobs=1)]: Done  49 tasks      | elapsed:    2.9s\n",
      "[Parallel(n_jobs=1)]: Done  49 tasks      | elapsed:    2.9s\n",
      "[Parallel(n_jobs=1)]: Done  49 tasks      | elapsed:    3.0s\n",
      "[Parallel(n_jobs=1)]: Done  49 tasks      | elapsed:    2.9s\n",
      "[Parallel(n_jobs=1)]: Done  49 tasks      | elapsed:    3.0s\n",
      "[Parallel(n_jobs=1)]: Done  49 tasks      | elapsed:    2.9s\n",
      "[Parallel(n_jobs=1)]: Done  49 tasks      | elapsed:    2.9s\n",
      "[Parallel(n_jobs=1)]: Done 199 tasks      | elapsed:   12.2s\n"
     ]
    },
    {
     "name": "stdout",
     "output_type": "stream",
     "text": [
      "30.563 --> "
     ]
    },
    {
     "name": "stderr",
     "output_type": "stream",
     "text": [
      "[Parallel(n_jobs=1)]: Done  49 tasks      | elapsed:    4.0s\n",
      "[Parallel(n_jobs=1)]: Done 199 tasks      | elapsed:   16.2s\n"
     ]
    },
    {
     "name": "stdout",
     "output_type": "stream",
     "text": [
      "9.506 --> "
     ]
    },
    {
     "name": "stderr",
     "output_type": "stream",
     "text": [
      "[Parallel(n_jobs=1)]: Done  49 tasks      | elapsed:    2.9s\n",
      "[Parallel(n_jobs=1)]: Done 199 tasks      | elapsed:   20.0s\n"
     ]
    },
    {
     "name": "stdout",
     "output_type": "stream",
     "text": [
      "9.482 --> "
     ]
    },
    {
     "name": "stderr",
     "output_type": "stream",
     "text": [
      "[Parallel(n_jobs=1)]: Done  49 tasks      | elapsed:    3.0s\n",
      "[Parallel(n_jobs=1)]: Done 199 tasks      | elapsed:   12.1s\n"
     ]
    },
    {
     "name": "stdout",
     "output_type": "stream",
     "text": [
      "9.482 --> "
     ]
    },
    {
     "name": "stderr",
     "output_type": "stream",
     "text": [
      "[Parallel(n_jobs=1)]: Done  49 tasks      | elapsed:    3.0s\n",
      "[Parallel(n_jobs=1)]: Done 199 tasks      | elapsed:   13.9s\n"
     ]
    },
    {
     "name": "stdout",
     "output_type": "stream",
     "text": [
      "9.482 --> \n"
     ]
    },
    {
     "name": "stderr",
     "output_type": "stream",
     "text": [
      "[Parallel(n_jobs=1)]: Done  49 tasks      | elapsed:    3.0s\n",
      "[Parallel(n_jobs=1)]: Done 199 tasks      | elapsed:   12.3s\n",
      "[Parallel(n_jobs=1)]: Done  49 tasks      | elapsed:    3.0s\n",
      "[Parallel(n_jobs=1)]: Done  49 tasks      | elapsed:    3.4s\n",
      "[Parallel(n_jobs=1)]: Done  49 tasks      | elapsed:    3.9s\n",
      "[Parallel(n_jobs=1)]: Done  49 tasks      | elapsed:    2.9s\n",
      "[Parallel(n_jobs=1)]: Done  49 tasks      | elapsed:    2.9s\n",
      "[Parallel(n_jobs=1)]: Done  49 tasks      | elapsed:    2.9s\n",
      "[Parallel(n_jobs=1)]: Done  49 tasks      | elapsed:    2.9s\n",
      "[Parallel(n_jobs=1)]: Done  49 tasks      | elapsed:    3.9s\n",
      "[Parallel(n_jobs=1)]: Done 199 tasks      | elapsed:   16.1s\n"
     ]
    },
    {
     "name": "stdout",
     "output_type": "stream",
     "text": [
      "26.245 --> "
     ]
    },
    {
     "name": "stderr",
     "output_type": "stream",
     "text": [
      "[Parallel(n_jobs=1)]: Done  49 tasks      | elapsed:    3.6s\n",
      "[Parallel(n_jobs=1)]: Done 199 tasks      | elapsed:   15.7s\n"
     ]
    },
    {
     "name": "stdout",
     "output_type": "stream",
     "text": [
      "8.549 --> "
     ]
    },
    {
     "name": "stderr",
     "output_type": "stream",
     "text": [
      "[Parallel(n_jobs=1)]: Done  49 tasks      | elapsed:    2.1s\n",
      "[Parallel(n_jobs=1)]: Done 199 tasks      | elapsed:    8.9s\n"
     ]
    },
    {
     "name": "stdout",
     "output_type": "stream",
     "text": [
      "8.190 --> "
     ]
    },
    {
     "name": "stderr",
     "output_type": "stream",
     "text": [
      "[Parallel(n_jobs=1)]: Done  49 tasks      | elapsed:    2.2s\n",
      "[Parallel(n_jobs=1)]: Done 199 tasks      | elapsed:    9.3s\n"
     ]
    },
    {
     "name": "stdout",
     "output_type": "stream",
     "text": [
      "8.190 --> \n"
     ]
    },
    {
     "name": "stderr",
     "output_type": "stream",
     "text": [
      "[Parallel(n_jobs=1)]: Done  49 tasks      | elapsed:    2.3s\n",
      "[Parallel(n_jobs=1)]: Done 199 tasks      | elapsed:    9.4s\n",
      "[Parallel(n_jobs=1)]: Done  49 tasks      | elapsed:    2.2s\n",
      "[Parallel(n_jobs=1)]: Done  49 tasks      | elapsed:    2.1s\n",
      "[Parallel(n_jobs=1)]: Done  49 tasks      | elapsed:    2.1s\n",
      "[Parallel(n_jobs=1)]: Done  49 tasks      | elapsed:    2.3s\n",
      "[Parallel(n_jobs=1)]: Done  49 tasks      | elapsed:    2.0s\n",
      "[Parallel(n_jobs=1)]: Done  49 tasks      | elapsed:    2.1s\n",
      "[Parallel(n_jobs=1)]: Done  49 tasks      | elapsed:    2.1s\n",
      "[Parallel(n_jobs=1)]: Done  49 tasks      | elapsed:    2.1s\n",
      "[Parallel(n_jobs=1)]: Done  49 tasks      | elapsed:    2.1s\n",
      "[Parallel(n_jobs=1)]: Done 199 tasks      | elapsed:    8.6s\n"
     ]
    },
    {
     "name": "stdout",
     "output_type": "stream",
     "text": [
      "20.549 --> "
     ]
    },
    {
     "name": "stderr",
     "output_type": "stream",
     "text": [
      "[Parallel(n_jobs=1)]: Done  49 tasks      | elapsed:    2.0s\n",
      "[Parallel(n_jobs=1)]: Done 199 tasks      | elapsed:    8.5s\n"
     ]
    },
    {
     "name": "stdout",
     "output_type": "stream",
     "text": [
      "6.875 --> "
     ]
    },
    {
     "name": "stderr",
     "output_type": "stream",
     "text": [
      "[Parallel(n_jobs=1)]: Done  49 tasks      | elapsed:    2.0s\n",
      "[Parallel(n_jobs=1)]: Done 199 tasks      | elapsed:    8.4s\n"
     ]
    },
    {
     "name": "stdout",
     "output_type": "stream",
     "text": [
      "6.515 --> "
     ]
    },
    {
     "name": "stderr",
     "output_type": "stream",
     "text": [
      "[Parallel(n_jobs=1)]: Done  49 tasks      | elapsed:    2.0s\n",
      "[Parallel(n_jobs=1)]: Done 199 tasks      | elapsed:    8.7s\n"
     ]
    },
    {
     "name": "stdout",
     "output_type": "stream",
     "text": [
      "6.515 --> \n"
     ]
    },
    {
     "name": "stderr",
     "output_type": "stream",
     "text": [
      "[Parallel(n_jobs=1)]: Done  49 tasks      | elapsed:    2.0s\n",
      "[Parallel(n_jobs=1)]: Done 199 tasks      | elapsed:    8.6s\n",
      "[Parallel(n_jobs=1)]: Done  49 tasks      | elapsed:    2.0s\n",
      "[Parallel(n_jobs=1)]: Done  49 tasks      | elapsed:    2.1s\n",
      "[Parallel(n_jobs=1)]: Done  49 tasks      | elapsed:    2.1s\n",
      "[Parallel(n_jobs=1)]: Done  49 tasks      | elapsed:    2.1s\n",
      "[Parallel(n_jobs=1)]: Done  49 tasks      | elapsed:    2.1s\n",
      "[Parallel(n_jobs=1)]: Done  49 tasks      | elapsed:    2.1s\n",
      "[Parallel(n_jobs=1)]: Done  49 tasks      | elapsed:    2.0s\n",
      "[Parallel(n_jobs=1)]: Done  49 tasks      | elapsed:    2.0s\n",
      "[Parallel(n_jobs=1)]: Done  49 tasks      | elapsed:    2.1s\n",
      "[Parallel(n_jobs=1)]: Done  49 tasks      | elapsed:    2.1s\n",
      "[Parallel(n_jobs=1)]: Done 199 tasks      | elapsed:    8.7s\n"
     ]
    },
    {
     "name": "stdout",
     "output_type": "stream",
     "text": [
      "16.156 --> "
     ]
    },
    {
     "name": "stderr",
     "output_type": "stream",
     "text": [
      "[Parallel(n_jobs=1)]: Done  49 tasks      | elapsed:    2.1s\n",
      "[Parallel(n_jobs=1)]: Done 199 tasks      | elapsed:    8.6s\n"
     ]
    },
    {
     "name": "stdout",
     "output_type": "stream",
     "text": [
      "5.910 --> "
     ]
    },
    {
     "name": "stderr",
     "output_type": "stream",
     "text": [
      "[Parallel(n_jobs=1)]: Done  49 tasks      | elapsed:    2.3s\n",
      "[Parallel(n_jobs=1)]: Done 199 tasks      | elapsed:    9.4s\n"
     ]
    },
    {
     "name": "stdout",
     "output_type": "stream",
     "text": [
      "5.550 --> "
     ]
    },
    {
     "name": "stderr",
     "output_type": "stream",
     "text": [
      "[Parallel(n_jobs=1)]: Done  49 tasks      | elapsed:    2.2s\n",
      "[Parallel(n_jobs=1)]: Done 199 tasks      | elapsed:    9.2s\n"
     ]
    },
    {
     "name": "stdout",
     "output_type": "stream",
     "text": [
      "5.550 --> \n"
     ]
    },
    {
     "name": "stderr",
     "output_type": "stream",
     "text": [
      "[Parallel(n_jobs=1)]: Done  49 tasks      | elapsed:    2.2s\n",
      "[Parallel(n_jobs=1)]: Done 199 tasks      | elapsed:    8.8s\n"
     ]
    },
    {
     "ename": "NameError",
     "evalue": "name 'plt' is not defined",
     "output_type": "error",
     "traceback": [
      "\u001b[1;31m---------------------------------------------------------------------------\u001b[0m",
      "\u001b[1;31mNameError\u001b[0m                                 Traceback (most recent call last)",
      "Cell \u001b[1;32mIn[62], line 9\u001b[0m\n\u001b[0;32m      6\u001b[0m     model\u001b[38;5;241m.\u001b[39mfit(data_scaled)\n\u001b[0;32m      7\u001b[0m     inertias\u001b[38;5;241m.\u001b[39mappend(model\u001b[38;5;241m.\u001b[39minertia_)\n\u001b[1;32m----> 9\u001b[0m \u001b[43mplt\u001b[49m\u001b[38;5;241m.\u001b[39mfigure(figsize\u001b[38;5;241m=\u001b[39m(\u001b[38;5;241m8\u001b[39m, \u001b[38;5;241m4\u001b[39m))\n\u001b[0;32m     10\u001b[0m plt\u001b[38;5;241m.\u001b[39mplot(\u001b[38;5;28mrange\u001b[39m(\u001b[38;5;241m1\u001b[39m, max_clusters \u001b[38;5;241m+\u001b[39m \u001b[38;5;241m1\u001b[39m), inertias, marker\u001b[38;5;241m=\u001b[39m\u001b[38;5;124m'\u001b[39m\u001b[38;5;124mo\u001b[39m\u001b[38;5;124m'\u001b[39m)\n\u001b[0;32m     11\u001b[0m plt\u001b[38;5;241m.\u001b[39mtitle(\u001b[38;5;124m'\u001b[39m\u001b[38;5;124mElbow Method For Optimal k\u001b[39m\u001b[38;5;124m'\u001b[39m)\n",
      "\u001b[1;31mNameError\u001b[0m: name 'plt' is not defined"
     ]
    }
   ],
   "source": [
    "inertias = []\n",
    "max_clusters = 10  # You can adjust this value based on your dataset size and computational power\n",
    "\n",
    "for k in range(1, max_clusters + 1):\n",
    "    model = TimeSeriesKMeans(n_clusters=k, metric=\"dtw\", verbose=True, random_state=42)\n",
    "    model.fit(data_scaled)\n",
    "    inertias.append(model.inertia_)\n",
    "\n",
    "plt.figure(figsize=(8, 4))\n",
    "plt.plot(range(1, max_clusters + 1), inertias, marker='o')\n",
    "plt.title('Elbow Method For Optimal k')\n",
    "plt.xlabel('Number of clusters')\n",
    "plt.ylabel('Inertia')\n",
    "plt.show()"
   ]
  },
  {
   "cell_type": "code",
   "execution_count": 64,
   "id": "6dbfbe88-7e14-4869-a922-29db7c113baf",
   "metadata": {},
   "outputs": [
    {
     "data": {
      "image/png": "[encoded data removed]",
      "text/plain": [
       "<Figure size 800x400 with 1 Axes>"
      ]
     },
     "metadata": {},
     "output_type": "display_data"
    }
   ],
   "source": [
    "import matplotlib.pyplot  as plt\n",
    "\n",
    "plt.figure(figsize=(8, 4))\n",
    "plt.plot(range(1, max_clusters + 1), inertias, marker='o')\n",
    "plt.title('Elbow Method For Optimal k')\n",
    "plt.xlabel('Number of clusters')\n",
    "plt.ylabel('Inertia')\n",
    "plt.show()"
   ]
  },
  {
   "cell_type": "code",
   "execution_count": 12,
   "id": "b9c39ee9-0315-4723-8495-fa8c7ee72ba9",
   "metadata": {},
   "outputs": [
    {
     "name": "stderr",
     "output_type": "stream",
     "text": [
      "[Parallel(n_jobs=1)]: Done  49 tasks      | elapsed:    3.0s\n",
      "[Parallel(n_jobs=1)]: Done  49 tasks      | elapsed:    3.4s\n",
      "[Parallel(n_jobs=1)]: Done  49 tasks      | elapsed:    3.0s\n"
     ]
    },
    {
     "name": "stdout",
     "output_type": "stream",
     "text": [
      "81.976 --> "
     ]
    },
    {
     "name": "stderr",
     "output_type": "stream",
     "text": [
      "[Parallel(n_jobs=1)]: Done  49 tasks      | elapsed:    3.1s\n"
     ]
    },
    {
     "name": "stdout",
     "output_type": "stream",
     "text": [
      "26.684 --> "
     ]
    },
    {
     "name": "stderr",
     "output_type": "stream",
     "text": [
      "[Parallel(n_jobs=1)]: Done  49 tasks      | elapsed:    3.3s\n"
     ]
    },
    {
     "name": "stdout",
     "output_type": "stream",
     "text": [
      "26.223 --> "
     ]
    },
    {
     "name": "stderr",
     "output_type": "stream",
     "text": [
      "[Parallel(n_jobs=1)]: Done  49 tasks      | elapsed:    2.8s\n"
     ]
    },
    {
     "name": "stdout",
     "output_type": "stream",
     "text": [
      "26.091 --> "
     ]
    },
    {
     "name": "stderr",
     "output_type": "stream",
     "text": [
      "[Parallel(n_jobs=1)]: Done  49 tasks      | elapsed:    2.7s\n"
     ]
    },
    {
     "name": "stdout",
     "output_type": "stream",
     "text": [
      "26.091 --> \n"
     ]
    },
    {
     "name": "stderr",
     "output_type": "stream",
     "text": [
      "[Parallel(n_jobs=1)]: Done  49 tasks      | elapsed:    2.8s\n"
     ]
    },
    {
     "name": "stdout",
     "output_type": "stream",
     "text": [
      "[2 2 0 0 2 2 2 0 0 0 0 1 2 2 2 2 2 0 0 0 0 2 0 0 2 2 2 0 0 0 2 2 0 2 0 1]\n"
     ]
    }
   ],
   "source": [
    "from tslearn.clustering import TimeSeriesKMeans\n",
    "\n",
    "# Define the number of clusters\n",
    "n_clusters = 3\n",
    "\n",
    "# Create a K-means model with DTW\n",
    "model = TimeSeriesKMeans(n_clusters=n_clusters, metric=\"dtw\", verbose=True, random_state=42)\n",
    "labels = model.fit_predict(data_scaled)\n",
    "\n",
    "# Print the cluster labels\n",
    "print(labels)"
   ]
  },
  {
   "cell_type": "code",
   "execution_count": 13,
   "id": "d09d2261-a95d-4db6-b751-7d42f194e71f",
   "metadata": {},
   "outputs": [
    {
     "name": "stdout",
     "output_type": "stream",
     "text": [
      "36\n",
      "36\n"
     ]
    }
   ],
   "source": [
    "print(len(stock_prices.columns))  # Number of stocks\n",
    "print(len(labels))               # Number of labels returned from the clustering"
   ]
  },
  {
   "cell_type": "code",
   "execution_count": 14,
   "id": "4f51b332-df3a-497f-927a-a4b823757cc8",
   "metadata": {},
   "outputs": [
    {
     "name": "stdout",
     "output_type": "stream",
     "text": [
      "    Stock  Cluster\n",
      "0    AAPL        2\n",
      "1    ABBV        2\n",
      "2    ADBE        0\n",
      "3     AMD        0\n",
      "4    AMZN        2\n",
      "5    AVGO        2\n",
      "6     BAC        2\n",
      "7    COST        0\n",
      "8     CRM        0\n",
      "9     CVX        0\n",
      "10    DIS        0\n",
      "11     GE        1\n",
      "12   GOOG        2\n",
      "13  GOOGL        2\n",
      "14     HD        2\n",
      "15    JNJ        2\n",
      "16    JPM        2\n",
      "17     KO        0\n",
      "18    LIN        0\n",
      "19    LLY        0\n",
      "20     MA        0\n",
      "21   META        2\n",
      "22    MRK        0\n",
      "23   MSFT        0\n",
      "24   NFLX        2\n",
      "25   NVDA        2\n",
      "26   ORCL        2\n",
      "27    PEP        0\n",
      "28     PG        0\n",
      "29    TMO        0\n",
      "30   TSLA        2\n",
      "31    UNH        2\n",
      "32      V        0\n",
      "33    WFC        2\n",
      "34    WMT        0\n",
      "35    XOM        1\n"
     ]
    }
   ],
   "source": [
    "import pandas as pd\n",
    "\n",
    "# Assuming 'stock_prices.columns' contains the stock tickers\n",
    "stock_labels = pd.DataFrame({\n",
    "    'Stock': stock_prices.columns,\n",
    "    'Cluster': labels\n",
    "})\n",
    "\n",
    "print(stock_labels)"
   ]
  },
  {
   "cell_type": "code",
   "execution_count": 17,
   "id": "5024e074-bc3e-49d1-aebe-cb8f555830fb",
   "metadata": {},
   "outputs": [
    {
     "name": "stdout",
     "output_type": "stream",
     "text": [
      "Cluster 1: ['ADBE', 'AMD', 'COST', 'CRM', 'CVX', 'DIS', 'KO', 'LIN', 'LLY', 'MA', 'MRK', 'MSFT', 'PEP', 'PG', 'TMO', 'V', 'WMT']\n",
      "Cluster 2: ['GE', 'XOM']\n",
      "Cluster 3: ['AAPL', 'ABBV', 'AMZN', 'AVGO', 'BAC', 'GOOG', 'GOOGL', 'HD', 'JNJ', 'JPM', 'META', 'NFLX', 'NVDA', 'ORCL', 'TSLA', 'UNH', 'WFC']\n"
     ]
    }
   ],
   "source": [
    "# Group stocks by cluster and list them\n",
    "clustered_stocks = stock_labels.groupby('Cluster')['Stock'].apply(list)\n",
    "print('Cluster 1:',clustered_stocks[0])\n",
    "print('Cluster 2:',clustered_stocks[1])\n",
    "print('Cluster 3:',clustered_stocks[2])"
   ]
  },
  {
   "cell_type": "markdown",
   "id": "a806de14-d8bd-4250-8c2e-5e41bc3ef0e2",
   "metadata": {},
   "source": [
    "Cluster 1: ['ADBE', 'AMD', 'COST', 'CRM', 'CVX', 'DIS', 'KO', 'LIN', 'LLY', 'MA', 'MRK', 'MSFT', 'PEP', 'PG', 'TMO', 'V', 'WMT']\r\n",
    "\n",
    "Cluster 2: ['GE', 'XOM']\n",
    "\r\n",
    "Cluster 3: ['AAPL', 'ABBV', 'AMZN', 'AVGO', 'BAC', 'GOOG', 'GOOGL', 'HD', 'JNJ', 'JPM', 'META', 'NFLX', 'NVDA', 'ORCL', 'TSLA', 'UNH', 'WFC']"
   ]
  }
 ],
 "metadata": {
  "kernelspec": {
   "display_name": "Python 3 (ipykernel)",
   "language": "python",
   "name": "python3"
  },
  "language_info": {
   "codemirror_mode": {
    "name": "ipython",
    "version": 3
   },
   "file_extension": ".py",
   "mimetype": "text/x-python",
   "name": "python",
   "nbconvert_exporter": "python",
   "pygments_lexer": "ipython3",
   "version": "3.11.2"
  }
 },
 "nbformat": 4,
 "nbformat_minor": 5
}
